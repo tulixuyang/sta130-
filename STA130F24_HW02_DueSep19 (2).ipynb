{
 "cells": [
  {
   "cell_type": "markdown",
   "id": "14b74968",
   "metadata": {},
   "source": [
    "## STA130 Homework 02\n",
    "\n",
    "Please see the course [wiki-textbook](https://github.com/pointOfive/stat130chat130/wiki) for the list of topics covered in this homework assignment, and a list of topics that might appear during ChatBot conversations which are \"out of scope\" for the purposes of this homework assignment (and hence can be safely ignored if encountered)"
   ]
  },
  {
   "cell_type": "markdown",
   "id": "f014006ff8809433",
   "metadata": {},
   "source": [
    "<details class=\"details-example\"><summary style=\"color:blue\"><u>Introduction</u></summary>\n",
    "\n",
    "### Introduction\n",
    "    \n",
    "A reasonable characterization of STA130 Homework is that it simply defines a weekly reading comprehension assignment. \n",
    "Indeed, STA130 Homework essentially boils down to completing various understanding confirmation exercises oriented around coding and writing tasks.\n",
    "However, rather than reading a textbook, STA130 Homework is based on ChatBots so students can interactively follow up to clarify questions or confusion that they may still have regarding learning objective assignments.\n",
    "\n",
    "> Communication is a fundamental skill underlying statistics and data science, so STA130 Homework based on ChatBots helps practice effective two-way communication as part of a \"realistic\" dialogue activity supporting underlying conceptual understanding building. \n",
    "\n",
    "It will likely become increasingly tempting to rely on ChatBots to \"do the work for you\". But when you find yourself frustrated with a ChatBots inability to give you the results you're looking for, this is a \"hint\" that you've become overreliant on the ChatBots. Your objective should not be to have ChatBots \"do the work for you\", but to use ChatBots to help you build your understanding so you can efficiently leverage ChatBots (and other resources) to help you work more efficiently.<br><br>\n",
    "\n",
    "</details>\n",
    "\n",
    "<details class=\"details-example\"><summary style=\"color:blue\"><u>Instructions</u></summary>\n",
    "\n",
    "### Instructions\n",
    "    \n",
    "1. Code and write all your answers (for both the \"Prelecture\" and \"Postlecture\" HW) in a python notebook (in code and markdown cells) \n",
    "    \n",
    "> It is *suggested but not mandatory* that you complete the \"Prelecture\" HW prior to the Monday LEC since (a) all HW is due at the same time; but, (b) completing some of the HW early will mean better readiness for LEC and less of a \"procrastentation cruch\" towards the end of the week...\n",
    "    \n",
    "2. Paste summaries of your ChatBot sessions (including link(s) to chat log histories if you're using ChatGPT) within your notebook\n",
    "    \n",
    "> Create summaries of your ChatBot sessions by using concluding prompts such as \"Please provide a summary of our exchanges here so I can submit them as a record of our interactions as part of a homework assignment\" or, \"Please provide me with the final working verson of the code that we created together\"\n",
    "    \n",
    "3. Save your python jupyter notebook in your own account and \"repo\" on [github.com](github.com) and submit a link to that notebook though Quercus for assignment marking<br><br>\n",
    "\n",
    "</details>\n",
    "\n",
    "<details class=\"details-example\"><summary style=\"color:blue\"><u>Prompt Engineering?</u></summary>\n",
    "    \n",
    "### Prompt Engineering? \n",
    "    \n",
    "The questions (as copy-pasted prompts) are designed to initialize appropriate ChatBot conversations which can be explored in the manner of an interactive and dynamic textbook; but, it is nonetheless **strongly recommendated** that your rephrase the questions in a way that you find natural to ensure a clear understanding of the question. Given sensible prompts the represent a question well, the two primary challenges observed to arise from ChatBots are \n",
    "\n",
    "1. conversations going beyond the intended scope of the material addressed by the question; and, \n",
    "2. unrecoverable confusion as a result of sequential layers logial inquiry that cannot be resolved. \n",
    "\n",
    "In the case of the former (1), adding constraints specifying the limits of considerations of interest tends to be helpful; whereas, the latter (2) is often the result of initial prompting that leads to poor developments in navigating the material, which are likely just best resolve by a \"hard reset\" with a new initial approach to prompting.  Indeed, this is exactly the behavior [hardcoded into copilot](https://answers.microsoft.com/en-us/bing/forum/all/is-this-even-normal/0b6dcab3-7d6c-4373-8efe-d74158af3c00)...\n",
    "\n",
    "</details>"
   ]
  },
  {
   "cell_type": "markdown",
   "id": "161fd459",
   "metadata": {},
   "source": [
    "\n",
    "### Marking Rubric (which may award partial credit) \n",
    "\n",
    "- [0.1 points]: All relevant ChatBot summaries [including link(s) to chat log histories if you're using ChatGPT] are reported within the notebook\n",
    "- [0.3 points]: Assignment completion confirmed by working \"final\" code and ChatBot summaries for \"3\"\n",
    "- [0.3 points]: Written submission evaluation and enagement confirmation with ChatBot summaries for \"6\"\n",
    "- [0.3 points]: Evaluation of engagement and evaluation of written communication in \"7\"\n",
    "        "
   ]
  },
  {
   "cell_type": "markdown",
   "id": "f7ff3f55",
   "metadata": {},
   "source": [
    "### \"Pre-lecture\" HW [*completion prior to next LEC is suggested but not mandatory*]"
   ]
  },
  {
   "cell_type": "markdown",
   "id": "fda8568b",
   "metadata": {},
   "source": [
    "#### 1. Begin (or restart) part \"3(a)\" of the **TUT Demo** and interact with a ChatBot to make sure you understand how each part the Monte Hall problem code above works<br>\n",
    "\n",
    "<details class=\"details-example\"><summary style=\"color:blue\"><u>Further Guidance</u></summary>\n",
    "    \n",
    "> _ChatBots typically explain code fairly effectively, so a ChatBot will probably be very helpful if you share the full Monte Hall problem code; but, you can always introduce more specific and targetted follow-up prompts that help with focus, re-redirection, and response format regarding the ChatBot responses as needed._ \n",
    ">\n",
    "> _ChatBots won't always re-introduce and re-explain the Monte Hall problem itself, so if you need it to do so you may need to specifically request this as part of your prompt or follow up interactions._\n",
    "\n",
    "</details>\n"
   ]
  },
  {
   "cell_type": "code",
   "execution_count": null,
   "id": "854c5d6c",
   "metadata": {},
   "outputs": [],
   "source": []
  },
  {
   "cell_type": "markdown",
   "id": "11581881",
   "metadata": {},
   "source": [
    "#### 2. Extend your ChatBot sessions to now address part \"3(b)\" of the **TUT Demo** and interact with your ChatBot to see if it can suggest a simpler, more streamlined way to code up this *for* loop simulation so the process is more clear and easier to understand; then, describe any preferences you have in terms of readibility or explainability  between the original code and the code improvements suggested by the ChatBot<br>\n",
    "\n",
    "<details class=\"details-example\"><summary style=\"color:blue\"><u>Further Guidance</u></summary>\n",
    "    \n",
    "> _The links in the TUT Demo show that there can be variation in the quality of the code improvements suggested by ChatBots; however, it's most likely that a ChatBot is going to be able to greatly reduce the number of steps/lines of code and hence complexity of understanding the problem. ChatBots can provide a good amount of explanation and inline clarifying code comments and provide more simpler more intuitive code that can transform something that looks a bit scary at first to something that's easy to follow and make sense of. Of course, in doing so, a ChatBot may introduce functions that you've technically not learned or seen before; but, the amount of simplification and clarifying comments is probably going to more than compensate for this; and, you'll have seen a learned a little bit more about what's possible through this process, which is the ideal experience we're hoping you'll see here._ \n",
    "    \n",
    "</details>\n",
    "        "
   ]
  },
  {
   "cell_type": "markdown",
   "id": "f3fdebd8",
   "metadata": {},
   "source": [
    "#### 3. Submit your preferred version of the Monty Hall problem that is verified to be running and working with a final printed output of the code; then, add code comments explaining the purpose of each line of the code<br>\n",
    "\n",
    "<details class=\"details-example\"><summary style=\"color:blue\"><u>Further Guidance</u></summary>\n",
    "    \n",
    "> _Your ChatBot will likely do much of this for you, but verify for yourself that you understand each comment and reword comments wherever you think it would be better to explain it differently._\n",
    ">\n",
    "> _Remember to ask for summaries of your current session and paste these into your homework notebook  (including link(s) to chat log histories if you're using ChatGPT)_\n",
    "\n",
    "</details>\n",
    " "
   ]
  },
  {
   "cell_type": "markdown",
   "id": "7e66a747",
   "metadata": {},
   "source": [
    "In this session, we worked on simplifying and improving your Monte Hall problem simulation code. Here's a summary of the key steps:\n",
    "\n",
    "1. **Original Code Analysis**: You provided an initial version of the Monty Hall problem simulation that used a `try/except` block to handle door removal and re-adding.\n",
    "   \n",
    "2. **Improved Code**: I suggested a more streamlined version of the code, which:\n",
    "   - Used list comprehensions to eliminate the need for removing and re-adding doors.\n",
    "   - Avoided the `try/except` block, improving readability.\n",
    "   - Made the swapping logic clearer by directly focusing on excluding unwanted doors.\n",
    "\n",
    "3. **Line-by-Line Explanation**: I provided a detailed explanation for each line of the improved code, clarifying what each line does and how it contributes to the simulation.\n",
    "\n",
    "4. **Readability and Clarity Comparison**: We discussed how the improved version enhances readability and explainability by reducing complexity, making the code easier to follow, especially for someone unfamiliar with certain programming concepts like error handling.\n",
    "\n",
    "Feel free to submit this summary along with our exchanges as part of your homework assignment!"
   ]
  },
  {
   "cell_type": "code",
   "execution_count": null,
   "id": "e62ec4ba",
   "metadata": {},
   "outputs": [],
   "source": [
    "import numpy as np\n",
    "\n",
    "all_door_options = (1, 2, 3)\n",
    "reps = 100000\n",
    "i_won = 0\n",
    "\n",
    "for i in range(reps):\n",
    "    # Step 1: Randomly choose the winning door and the player's initial door choice\n",
    "    secret_winning_door = np.random.choice(all_door_options)\n",
    "    my_door_choice = np.random.choice(all_door_options)\n",
    "    \n",
    "    # Step 2: Reveal a \"goat\" door that is not the winning door or the player's choice\n",
    "    remaining_doors = [door for door in all_door_options if door != my_door_choice and door != secret_winning_door]\n",
    "    revealed_goat_door = np.random.choice(remaining_doors)\n",
    "    \n",
    "    # Step 3: Swap to the other remaining door\n",
    "    remaining_doors = [door for door in all_door_options if door != my_door_choice and door != revealed_goat_door]\n",
    "    my_door_choice = remaining_doors[0]  # Swap\n",
    "    \n",
    "    # Step 4: Check if the new door is the winning one\n",
    "    if my_door_choice == secret_winning_door:\n",
    "        i_won += 1\n",
    "\n",
    "# Step 5: Calculate win percentage\n",
    "win_percentage = i_won / reps\n",
    "print(win_percentage)"
   ]
  },
  {
   "cell_type": "markdown",
   "id": "6e3a1e98",
   "metadata": {},
   "source": [
    "Below is my preferred Monty Hall code, with each line of the code explained by the following comment"
   ]
  },
  {
   "cell_type": "code",
   "execution_count": 1,
   "id": "90f696d1",
   "metadata": {},
   "outputs": [
    {
     "name": "stdout",
     "output_type": "stream",
     "text": [
      "0.66734\n"
     ]
    }
   ],
   "source": [
    "import numpy as np  # Import the numpy library for random choice functionality\n",
    "\n",
    "all_door_options = (1, 2, 3)  # Tuple representing the three doors (door 1, door 2, door 3)\n",
    "reps = 100000  # Number of simulations we want to run\n",
    "i_won = 0  # Initialize a counter to track the number of wins when we switch doors\n",
    "\n",
    "for i in range(reps):  # Loop to repeat the simulation `reps` times\n",
    "    \n",
    "    # Step 1: Randomly choose the winning door and the player's initial door choice\n",
    "    secret_winning_door = np.random.choice(all_door_options)  # Randomly select the door with the prize behind it\n",
    "    my_door_choice = np.random.choice(all_door_options)  # Randomly select the player's initial door choice\n",
    "    \n",
    "    # Step 2: Reveal a \"goat\" door that is not the winning door or the player's choice\n",
    "    remaining_doors = [door for door in all_door_options if door != my_door_choice and door != secret_winning_door]\n",
    "    # List comprehension to filter out the player's chosen door and the winning door (so we can reveal a goat door)\n",
    "    revealed_goat_door = np.random.choice(remaining_doors)  # Randomly select one of the remaining doors (which must be a goat door)\n",
    "    \n",
    "    # Step 3: Swap to the other remaining door\n",
    "    remaining_doors = [door for door in all_door_options if door != my_door_choice and door != revealed_goat_door]\n",
    "    # List comprehension to filter out the player's current choice and the revealed goat door (leaving only the other door)\n",
    "    my_door_choice = remaining_doors[0]  # Swap the player's choice to the other remaining door\n",
    "    \n",
    "    # Step 4: Check if the new door is the winning one\n",
    "    if my_door_choice == secret_winning_door:  # Check if the swapped door is the winning door\n",
    "        i_won += 1  # Increment the win counter if the player's choice is correct\n",
    "\n",
    "# Step 5: Calculate win percentage\n",
    "win_percentage = i_won / reps  # Calculate the proportion of wins\n",
    "print(win_percentage)  # Output the result"
   ]
  },
  {
   "cell_type": "markdown",
   "id": "45fbd927",
   "metadata": {},
   "source": [
    "After interacting with chatgpt:\n",
    "\n",
    "Certainly! To simplify the Monty Hall simulation function, we can streamline the code while maintaining clarity. Here’s a more concise version of the function:\n",
    "\n",
    "```python\n",
    "import numpy as np\n",
    "\n",
    "def monty_hall_simulation(reps=100000):\n",
    "    all_door_options = (1, 2, 3)\n",
    "    my_door_choice = 1\n",
    "    i_won = 0\n",
    "\n",
    "    for _ in range(reps):\n",
    "        # Randomly select the secret winning door\n",
    "        secret_winning_door = np.random.choice(all_door_options)\n",
    "        \n",
    "        # List of doors except the contestant's initial choice and the winning door\n",
    "        remaining_doors = list(all_door_options)\n",
    "        remaining_doors.remove(secret_winning_door)\n",
    "        if my_door_choice in remaining_doors:\n",
    "            remaining_doors.remove(my_door_choice)\n",
    "        \n",
    "        # Reveal a goat door (losing door) from the remaining options\n",
    "        goat_door_reveal = np.random.choice(remaining_doors)\n",
    "        \n",
    "        # Determine the new door to switch to\n",
    "        remaining_doors = [door for door in all_door_options if door != my_door_choice and door != goat_door_reveal]\n",
    "        \n",
    "        # Switch to the remaining door\n",
    "        my_door_choice = remaining_doors[0]\n",
    "        \n",
    "        # Check if the new choice is the winning door\n",
    "        if my_door_choice == secret_winning_door:\n",
    "            i_won += 1\n",
    "\n",
    "    # Compute the proportion of wins with the swap strategy\n",
    "    return i_won / reps\n",
    "\n",
    "# Run the simulation\n",
    "print(monty_hall_simulation())\n",
    "\n",
    "\n",
    "# this is the output of simplify version generated by chatgpt,\n",
    "```\n",
    "\n",
    "### Explanation:\n",
    "\n",
    "1. **Function Definition:** Encapsulated the simulation logic inside a function `monty_hall_simulation`, which defaults to 100,000 repetitions but can be adjusted by passing a different number.\n",
    "\n",
    "2. **Simplified Door Management:**\n",
    "   - Used `remaining_doors` to manage which doors are still in play, removing both the winning door and the contestant's choice if necessary.\n",
    "   - Used list comprehension to determine which door remains after revealing a goat door.\n",
    "\n",
    "3. **Direct Door Switch:** Directly determine the door to switch to by listing the remaining options.\n",
    "\n",
    "4. **Return Result:** The function returns the proportion of wins.\n",
    "\n",
    "This version keeps the logic intact but makes the code more readable and concise. Feel free to adjust the number of repetitions or the initial choice if needed."
   ]
  },
  {
   "cell_type": "markdown",
   "id": "1eb1a4e0",
   "metadata": {},
   "source": [
    "https://chatgpt.com/share/66eb6cbd-0468-8011-9599-339543cb5e4c"
   ]
  },
  {
   "cell_type": "markdown",
   "id": "8ba3ff01",
   "metadata": {},
   "source": [
    "#### 4. Watch the embedded video tutorial on Markov chains in the next Jupyter cell below to understand their application and relevance for ChatBots; then, after watching the video, start a new ChatBot session by prompting that you have code that creates a \"Markovian ChatBot\"; show it the first version of the \"Markovian ChatBot code\" below; and interact with the ChatBot session to make sure you understand how the original first version of the \"Markovian ChatBot code\" works<br>\n",
    "\n",
    "<details class=\"details-example\"><summary style=\"color:blue\"><u>Further Guidance</u></summary>\n",
    "\n",
    "> _If the ChatBot prompts you as to how you will \"train\" your own \"Markovian ChatBot\" you can reply that you'll just use a series of stories with a lot of different characters_\n",
    "> \n",
    "> _Ask for summaries of this second ChatBot session and paste these into your homework notebook (including link(s) to chat log histories if you're using ChatGPT)_\n",
    "    \n",
    "</details>\n",
    "    "
   ]
  },
  {
   "cell_type": "code",
   "execution_count": null,
   "id": "a52754504a625b36",
   "metadata": {},
   "outputs": [],
   "source": [
    "# Markov Chains and Text Generation\n",
    "from IPython.display import YouTubeVideo\n",
    "YouTubeVideo('56mGTszb_iM', width = 550)"
   ]
  },
  {
   "cell_type": "markdown",
   "id": "7a17e608",
   "metadata": {},
   "source": [
    "<details class=\"details-example\"><summary style=\"color:blue\"><u>Continue now...?</u></summary>\n",
    "\n",
    "### Pre-lecture VS Post-lecture HW\n",
    "\n",
    "Feel free to work on the \"Post-lecture\" HW below if you're making good progress and want to continue: for **HW 02** continuing could be reasonable because questions \"5-7\" below directly follow up and extend \"Pre-lecture\" HW question \"4\"\n",
    "\n",
    "*The benefits of continue would are that (a) it might be fun to try to tackle the challenge of working through some problems without additional preparation or guidance; and (b) this is a very valable skill to be comfortable with; and (c) it will let you build experience interacting with ChatBots (and beginning to understand their strengths and limitations in this regard)... it's good to have sense of when using a ChatBot is the best way to figure something out, or if another approach (such as course provided resources or a plain old websearch for the right resourse) would be more effective*\n",
    "    \n",
    "</details>    "
   ]
  },
  {
   "cell_type": "markdown",
   "id": "d6ae0a64",
   "metadata": {},
   "source": [
    "### \"Post-lecture\" HW [*submission along with \"Pre-lecture\" HW is due prior to next TUT*]"
   ]
  },
  {
   "cell_type": "markdown",
   "id": "a3979c94",
   "metadata": {},
   "source": [
    "#### 5. Recreate (or resume) the previous ChatBot session from question \"4\" above, and now  prompt the ChatBot session that you have a couple extensions of the code to show it, and then show it each of the extentions of the \"Markovian ChatBot code\" below in turn\n",
    "\n",
    "\n",
    "\n",
    "1. Without just supplying your ChatBot session with the answers, see if the ChatBot can figure out what the extensions in the code do; namely, making character specific Markov chains, and using bigrams (rather than just the previous word alone) dependency... prompt your ChatBot session with some hints if it's not seeming to \"get it\"<br><br>\n",
    "    \n",
    "2. Interact with your ChatBot session to have it explain details of the code wherever you need help understanding what the code is doing and how it works<br><br>\n",
    "    \n",
    "3. Start yet another new ChatBot session and first show the ChatBot the original \"Markovian ChatBot code\" below, and then tell ChatBot that you have an extension but this time just directly provide it the more complicated final extension without ever providing the intermediate extension code to the ChatBot session and see if it's still able to understand everything extension does; namely, making character specific Markov chains, and using bigrams (rather than just the previous word alone) dependency... prompt the ChatBot with some hints if it's not seeming to understand what you're getting at...<br><br>\n",
    "    \n",
    "<details class=\"details-example\"><summary style=\"color:blue\"><u>Further Guidance</u></summary>\n",
    "\n",
    "> **ALERT: Time Warning**. Regarding the comments below (which will likely be relevant and useful for you), you might find the potential learning experience that this provides to be a quite the rabbit total rabbit hole and time sink. You might end up finding out that you spent way more time than I should on learning the code!! So be mindful of your time management as there is much to do for many classes!\n",
    ">    \n",
    "> _As you may or may not have already experienced in the previous problem, a ChatBot applied to this problem is likely to start explaining a bit more knowledge about Python than you need to know (as a student just trying to learn stats+DS); however, you'll probably feel like this \"out of scope\" context information is helpful to know (or at least be aware of) and easy to understand and learn if you use some addtional prompts to dig deeper into them. A ChatBot will be quite good at explaining and helping understand smaller chunks of code; however, if given too much information at once it can gloss over some information._\n",
    ">   \n",
    "> _That said, some topics here are potentially quite and advanced and too tricky! You might be able to ask the ChatBot to simplify its explanations and that might help a bit. But on the other hand, some topics, such as, \"how does `nested_dict = lambda: defaultdict(nested_dict)` work?\" might just simply be too advanced to really admit a simpler explanation via a ChatBot. You'll have to let these sorts of things go, if you come across explanations that just aren't improving or helping at at. In the case of `defaultdict(nested_dict)` specifically, the details here are well beyond the scope of STA130 and can be very safely ignored for now. The code will have reviewed and \"walked thorugh\" in LEC, but the perspectives espoused there will be the extent of the formal commentary and information regarding the coding topics we encounter in the Markov ChatBots code here._\n",
    ">     \n",
    "> _Unlike with the Monte Hall problem, we will not inquire with the ChatBot to see if it can suggest any streamlining, readability, or usability improvements to the alternative versions of the \"Markovian ChatBot code\" we're examining_\n",
    ">     \n",
    "> - _because doing so seems to result in the attempted creation of dubiously functional modular code with a focus on reusability (which is likely a result of ChatBot design being primarily a \"computer science\" topic), so ChatBot reponses here tend to orient around programming and system design principles (despite \"Markovian\" very much being a \"statistics\" topic)_\n",
    ">     \n",
    "> _Programming and system design principles are beyond the scope of STA130; but, they are critical for modern data science careers... if you are interested in pursuing a data science career, it is imperitive that you complete courses like CSC263, CSC373, and perhaps an additional \"systems design\" course_\n",
    "> \n",
    "> ---\n",
    "> \n",
    "> _Don't forget to ask for summaries of all your different ChatBot sessions and organize and paste these into your homework notebook (including link(s) to chat log histories if you're using ChatBot)_\n",
    "    \n",
    "</details>\n",
    "     "
   ]
  },
  {
   "cell_type": "markdown",
   "id": "116f0a96",
   "metadata": {},
   "source": [
    "#### 6. Report on your experience interacting with ChatBots to understand the Monte Hall problem and \"Markovian ChatBot\" code\n",
    "\n",
    "1. Discuss how quickly the ChatBot was able to be helpful for each of the above questions, and if so, how?<br><br>\n",
    "    \n",
    "2. Discuss whether or not interacting with ChatBot to try to figure things out was frustrating or unhelpful, and if so, how?<br><br>\n",
    "    \n",
    "3. Based on your experiences to date (e.g., including using ChatBots to troubleshoot coding errors in the previous homework), provide an overall assessment evaluating the usefulness of ChatBots as tools to help you understand code<br>"
   ]
  },
  {
   "cell_type": "markdown",
   "id": "48149c37",
   "metadata": {},
   "source": [
    "1.The ChatBot was quite helpful and quick for explaining the Monte Hall problem, as well as the Markovian ChatBot code.\n",
    "Firstly, I can easily put in the code chunk, and explain my intention/question in mind, and it can quickly explain to me, in detail, what the code does. It can even add in comment to explain what each line of code does, when I was having trouble understanding the for loop in Monte Hall code.\n",
    "\n",
    "What's more, when I have follow-up questions regarding a specific part of ChatGPT's answer, I can quote the part I am in doubt and easily ask ChatGPT to explain more on that part. This is useful when I had specific questions regarding the Bigram Dependency part in Markov chain code.\n",
    "\n",
    "Compared to my alterenative choice to search for each attribute and method, using ChatGPT is much more time efficient.\n",
    "\n",
    "2.Interacting with ChatBot is mostly helpful, but sometimes it is not.\n",
    "When my question is general, like asking it to explain a code chunk, or explain a broad aspect of a problem like Monte Hall Problem, it does the job.\n",
    "\n",
    "However, when my question becomes specific, it is hard to follow my actual requests, and it just repeats its previous explanation in slightly different wordings. I find it helpful, only when I know where to use it. It is not applicable for all usages.\n",
    "\n",
    "3.I think ChatBots are very useful in helping me understanding code. When I was having issue understanding the logic of for loops, it can provide simple examples that list the different scenarios where for loop completes the task. Also, when I encounter errors in my code, it is very easy to troubleshoot with ChatGPT. By providing my input and my error message, it gives easy-to-understand solutions. Therefore, I think ChatGPT is a useful tool for troubleshooting and understanding coding."
   ]
  },
  {
   "cell_type": "markdown",
   "id": "119f8c66",
   "metadata": {},
   "source": [
    "Summary of the Session:\n",
    "\n",
    "In this session, we discussed enhancing your chatbot project by incorporating character-specific Markov chains. The key idea is to modify your existing Markov chain implementation to handle separate Markov models for different characters. Each character will have their own unique set of word transitions or bigrams based on their dialogue style, leading to more tailored and distinct responses depending on which character is speaking.\n",
    "\n",
    "Character-Specific Markov Chains:\n",
    "\n",
    "You extend the chatbot to track which character is speaking and generate a Markov chain model specific to each one.\n",
    "For each character, the program maintains a unique word transition probability matrix, constructed from their respective dialogues.\n",
    "When generating responses, the chatbot uses the model associated with the current character to predict the next word or phrase.\n",
    "Implementation Notes:\n",
    "\n",
    "Create a data structure (e.g., a dictionary) where the key is the character's name, and the value is their corresponding Markov chain model.\n",
    "For each character, the model is built based on their dialogue history, using bigrams or higher-order n-grams if needed.\n",
    "When the chatbot needs to respond, it identifies the character and uses the appropriate model to generate contextually relevant text.\n",
    "This approach creates a more dynamic and realistic interaction experience as each character has a distinct way of responding, based on their own personalized Markov chain.\n",
    "\n"
   ]
  },
  {
   "cell_type": "markdown",
   "id": "8937213d",
   "metadata": {},
   "source": [
    "https://chatgpt.com/share/66eb704e-82a8-8011-8d72-ca8980ecbe4d"
   ]
  },
  {
   "cell_type": "markdown",
   "id": "cf320e9f",
   "metadata": {},
   "source": [
    "Here's a summary of our session:\n",
    "\n",
    "---\n",
    "\n",
    "### Summary of Markovian Chatbot Discussion\n",
    "\n",
    "**Original Markovian Chatbot Code**:\n",
    "- **`word_used`**: Dictionary tracking the frequency of individual words.\n",
    "- **`next_word`**: Dictionary tracking how often a word is followed by another word, implementing a first-order Markov chain.\n",
    "\n",
    "**Extended Markovian Chatbot Code**:\n",
    "- **Character-Specific Chains**:\n",
    "  - **`characters`**: Dictionary tracking characters from the `avatar` dataset, standardizing character names.\n",
    "  - **`word_used2C`**: Dictionary tracking the frequency of bigrams (two-word sequences) specific to each character.\n",
    "  - **`next_word2C`**: Nested dictionary tracking what word follows each bigram for each character.\n",
    "\n",
    "**Differences and Extensions**:\n",
    "- **Bigram Dependency**: The extended model uses bigrams (two consecutive words) rather than single words to predict the next word, providing more contextual accuracy.\n",
    "- **Character-Specific Chains**: Each character in the dataset has a unique Markov chain, allowing for character-specific language patterns and predictions.\n",
    "\n",
    "**Example Explanation**:\n",
    "- **First-Order Chain**: Predicts the next word based on a single preceding word.\n",
    "- **Bigram Dependency**: Predicts the next word based on the preceding two words, improving contextual understanding.\n",
    "\n",
    "---\n",
    "\n",
    "Feel free to adjust or add any specific details if needed!"
   ]
  },
  {
   "cell_type": "markdown",
   "id": "207f9720",
   "metadata": {},
   "source": [
    "https://chatgpt.com/share/66eb6fd5-6f70-8011-81aa-d084454a2172"
   ]
  },
  {
   "cell_type": "markdown",
   "id": "4642d6c2",
   "metadata": {},
   "source": [
    "#### 7. Reflect on your experience interacting with ChatBot and describe how your perception of AI-driven assistance tools in the context of learning coding, statistics, and data science has been evolving (or not) since joining the course<br><br>\n",
    "\n",
    "<details class=\"details-example\"><summary style=\"color:blue\"><u>Further Guidance</u></summary>\n",
    "    \n",
    "> _Question \"7\" and the next question \"8\" are somewhat related to the first bullet point in the suggested interactions of the \"Afterword\" to the Homework from last week... consider reviewing that if you'd like a little extra orienting around what these questions are trying to have you explore_\n",
    "   \n",
    "</details>"
   ]
  },
  {
   "cell_type": "markdown",
   "id": "1ddc36e8",
   "metadata": {},
   "source": [
    "Based on my experience in STA130, I believe AI-driven assistance tools such as ChatGPT is becoming more and more prominent and essential in the aspects of learning coding as well as data science. This is because they are almost always accurate in terms of explaining and troubleshooting for languages like Python, and they can quickly provide examples to help with better understanding.\n",
    "\n",
    "For learning statistics, I think ChatGPT is a good resource for general, introductory inquiries. For instance, asking about the concept of Monte Hall can be easily conducted. However, when it comes to more specific questions or troubleshooting, I find it less helpful and trustworthy. If I question them about something, sometimes they change their answers and they will change them back again if I question their modification. I believe it is more reliable to inquire textbooks, and other materials for Statistics questions.\n",
    "\n",
    "Since joining the course, I think not only my understanding of Statistics and Python has been improved by ChatBot, the speed and volume has also elevated. This is a tool that will greatly benefit students' learning as well the industry."
   ]
  },
  {
   "cell_type": "markdown",
   "id": "500f440e",
   "metadata": {},
   "source": [
    "#### 8. ChatBots consume text data available on the web or platforms, and thus represents a new way to \"search consensensus\" that condenses and summarizes mainstream human thought<br><br>\n",
    "\n",
    "1. Start a new ChatBot session and discuss the relevance of learning and adaptability, communication, coding, and statistics and data analysis as skills in the modern world, especially with respect to career opportunities (particularly in the context of the data science industry)<br><br>\n",
    "    \n",
    "2. See if ChatBot thinks you could be a statistician or data scientist without coding or doing data analysis, and then transition your ChatBot conversation into a career exploration discussion, using the ChatBot to identify the skills that might be the most valuable for a career that you're interested<br><br>\n",
    "    \n",
    "3. Ask for a summary of this ChatBot session and paste it into your homework notebook (including link(s) to chat log histories if you're using ChatBot)<br><br>\n",
    "    \n",
    "4. Paraphrase the assessments and conclusions of your conversation in the form of a reflection on your current thoughts regarding your potential future career(s) and how you can go about building the skills you need to pursue it<br><br>\n",
    "\n",
    "5. Give your thoughts regarding the helpfulness or limitations of your conversation with a ChatBot, and describe the next steps you would take to pursue this conversation further if you felt the information the ChatBot provides was somewhat high level and general, and perhaps lacked the depth and detailed knowledge of a dedicated subject matter expert who had really take the time to understand the ins and outs of the industry and career path in question.\n",
    "<br><br>\n",
    "\n",
    "<details class=\"details-example\"><summary style=\"color:blue\"><u>Further Guidance</u></summary>\n",
    "\n",
    "> _While question 8 is not a part of the rubric, it is nonetheless a very good exercise that will likely be valuable for you if you engage it them sincerely_\n",
    "    \n",
    "</details>\n"
   ]
  },
  {
   "cell_type": "markdown",
   "id": "b489452e",
   "metadata": {},
   "source": [
    "#### 9. Have you reviewed the course [wiki-textbook](https://github.com/pointOfive/stat130chat130/wiki) and interacted with a ChatBot (or, if that wasn't sufficient, real people in the course piazza discussion board or TA office hours) to help you understand all the material in the tutorial and lecture that you didn't quite follow when you first saw it?<br><br>\n",
    "  \n",
    "<details class=\"details-example\"><summary style=\"color:blue\"><u>Further Guidance</u></summary>\n",
    "    \n",
    "> _Just answering \"Yes\" or \"No\" or \"Somewhat\" or \"Mostly\" or whatever here is fine as this question isn't a part of the rubric; but, the midterm and final exams may ask questions that are based on the tutorial and lecture materials; and, your own skills will be limited by your familiarity with these materials (which will determine your ability to actually do actual things effectively with these skills... like the course project...)_\n",
    "    \n",
    "</details>"
   ]
  },
  {
   "cell_type": "code",
   "execution_count": null,
   "id": "94b3c915",
   "metadata": {},
   "outputs": [],
   "source": []
  },
  {
   "cell_type": "code",
   "execution_count": null,
   "id": "16f95257fb4fda6c",
   "metadata": {},
   "outputs": [],
   "source": [
    "# Markovian Chatbot\n",
    "\n",
    "# from collections import defaultdict\n",
    "word_used = dict() # defaultdict(int)\n",
    "next_word = dict() # defaultdict(lambda: defaultdict(int))\n",
    "for i,word in enumerate(words[:-1]):\n",
    "\n",
    "    if word in word_used:\n",
    "        word_used[word] += 1\n",
    "    else:\n",
    "        word_used[word] = 1\n",
    "        next_word[word] = {}\n",
    "\n",
    "    if words[i+1] in next_word[word]:\n",
    "        next_word[word][words[i+1]] += 1\n",
    "    else:\n",
    "        next_word[word][words[i+1]] = 1"
   ]
  },
  {
   "cell_type": "code",
   "execution_count": null,
   "id": "bd0e5d2163411e8e",
   "metadata": {},
   "outputs": [],
   "source": [
    "# Markovian Chatbot Extension #1\n",
    "\n",
    "word_used2 = defaultdict(int)\n",
    "next_word2 = defaultdict(lambda: defaultdict(int))\n",
    "for i,word in enumerate(words[:-2]):\n",
    "    word_used2[word+' '+words[i+1]] += 1\n",
    "    next_word2[word+' '+words[i+1]][words[i+2]] += 1 "
   ]
  },
  {
   "cell_type": "code",
   "execution_count": null,
   "id": "33fe616edecddb60",
   "metadata": {},
   "outputs": [],
   "source": [
    "# Markovian Chatbot Extension #2\n",
    "\n",
    "from collections import Counter, defaultdict\n",
    "# `avatar` is a dataset, and `character` is one of it's columns\n",
    "characters = Counter(\"\\n\"+ avatar.character.str.upper().str.replace(' ','.')+\":\")\n",
    "# this code changes the type of the `character` column to `str`; then,\n",
    "# makes the text uppercase, and replaces spaces with '.'\n",
    "\n",
    "nested_dict = lambda: defaultdict(nested_dict)\n",
    "word_used2C = nested_dict()\n",
    "next_word2C = nested_dict()\n",
    "\n",
    "for i,word in enumerate(words[:-2]):\n",
    "    if word in characters:\n",
    "        character = word\n",
    "        \n",
    "    if character not in word_used2C:\n",
    "        word_used2C[character] = dict()\n",
    "    if word+' '+words[i+1] not in word_used2C[character]:\n",
    "        word_used2C[character][word+' '+words[i+1]] = 0\n",
    "    word_used2C[character][word+' '+words[i+1]] += 1\n",
    "    \n",
    "    if character not in next_word2C:\n",
    "        next_word2C[character] = dict()\n",
    "    if word+' '+words[i+1] not in next_word2C[character]:\n",
    "        next_word2C[character][word+' '+words[i+1]] = dict()\n",
    "    if words[i+2] not in next_word2C[character][word+' '+words[i+1]]:\n",
    "        next_word2C[character][word+' '+words[i+1]][words[i+2]] = 0\n",
    "    next_word2C[character][word+' '+words[i+1]][words[i+2]] += 1"
   ]
  },
  {
   "cell_type": "markdown",
   "id": "1ebfa9b9",
   "metadata": {},
   "source": [
    "## Recommended Additional Useful Activities [Optional]\n",
    "\n",
    "The \"Ethical Profesionalism Considerations\" and \"Current Course Project Capability Level\" sections below **are not a part of the required homework assignment**; rather, they are regular weekly guides covering (a) relevant considerations regarding professional and ethical conduct, and (b) the analysis steps for the STA130 course project that are feasible at the current stage of the course <br><br>\n",
    "\n",
    "\n",
    "<details class=\"details-example\"><summary style=\"color:blue\"><u>Ethical Professionalism Considerations</u></summary>\n",
    "\n",
    "### Ethical Professionalism Considerations\n",
    "\n",
    "    \n",
    "> 1. If you've not heard of the \"reproducibility crisis\" in science, have a ChatBot explain it to you\n",
    "> 2. If you've not heard of the \"open source software\" (versus proprietary software), have a ChatBot explain it to you\n",
    "> 3. \"Reproducibility\" can also be considered at the level of a given data analysis project: can others replicate the results of code or analysis that you've done?\n",
    ">    1. Discuss with a ChatBot how jupyter notebooks and github can be used facilitate transparency and reproducibility in data analysis\n",
    "> 4. Discuss with a ChatBot what the distinction is between replicability of scientific experiments, versus the replicability of a specific data analysis project, and what your responsibility as an analyst should be with respect to both\n",
    "> 5. Do you think proprietary (non \"open source software\") software, such as Microsoft Word, Outlook, and Copilot tends to result in high quality products?  \n",
    ">     1. Do you think software product monopolies (such as the UofT dependence on Microsoft products) makes the world a better place?\n",
    "</details>    \n",
    "\n",
    "<details class=\"details-example\"><summary style=\"color:blue\"><u>Current Course Project Capability Level</u></summary>\n",
    "\n",
    "### Current Course Project Capability Level\n",
    "   \n",
    "**Remember to abide by the [data use agreement](https://static1.squarespace.com/static/60283c2e174c122f8ebe0f39/t/6239c284d610f76fed5a2e69/1647952517436/Data+Use+Agreement+for+the+Canadian+Social+Connection+Survey.pdf) at all times.**\n",
    "\n",
    "Information about the course project is available on the course github repo [here](https://github.com/pointOfive/stat130chat130/tree/main/CP), including a draft [course project specfication](https://github.com/pointOfive/stat130chat130/blob/main/CP/STA130F23_course_project_specification.ipynb) (subject to change). \n",
    "- The Week 01 HW introduced [STA130F24_CourseProject.ipynb](https://github.com/pointOfive/stat130chat130/blob/main/CP/STA130F24_CourseProject.ipynb), and the [available variables](https://drive.google.com/file/d/1ISVymGn-WR1lcRs4psIym2N3or5onNBi/view). \n",
    "- Please do not download the [data](https://drive.google.com/file/d/1mbUQlMTrNYA7Ly5eImVRBn16Ehy9Lggo/view) accessible at the bottom of the [CSCS](https://casch.org/cscs) webpage (or the course github repo) multiple times.\n",
    "\n",
    "> At this point in the course you should be able to create a `for` loop to iterate through and provide **simple summaries** of some of the interesting columns in the course project data\n",
    ">\n",
    "> 1. Create two versions of the code, one for numeric and the other for categorical data,  which provide a printout format that displays relavent summaries and the missing data counts for a given set of (either numerical or categorical) columns being examined\n",
    ">\n",
    "> 2. Combine the two separate `for` loops into a single `for` loop using an `if`/`else` **conditional logic structure** that determines the correct printout format based on the data type of the column under consideration  \n",
    ">     1. *Being able to transform existing code so it's \"resuable\" for different purposes is one version of the programming design principle of \"polymorphism\" (which means \"many forms\" or \"many uses\") [as in the first task above]*\n",
    ">     2. *A better version of the programming design principle of \"polymorphism\" is when the same code can handle different use cases [as in the second tast above]*\n",
    ">     3. *Being able run your code with different subsets of columns as interest in different variables changes is a final form of the programming design principle of \"polymorphism\" that's demonstrated through this exercise*   \n",
    "    \n",
    "</details>        "
   ]
  },
  {
   "cell_type": "code",
   "execution_count": null,
   "id": "9a9a75b6",
   "metadata": {},
   "outputs": [],
   "source": []
  }
 ],
 "metadata": {
  "kernelspec": {
   "display_name": "Python 3 (ipykernel)",
   "language": "python",
   "name": "python3"
  },
  "language_info": {
   "codemirror_mode": {
    "name": "ipython",
    "version": 3
   },
   "file_extension": ".py",
   "mimetype": "text/x-python",
   "name": "python",
   "nbconvert_exporter": "python",
   "pygments_lexer": "ipython3",
   "version": "3.11.6"
  }
 },
 "nbformat": 4,
 "nbformat_minor": 5
}
